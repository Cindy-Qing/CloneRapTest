{
  "nbformat": 4,
  "nbformat_minor": 0,
  "metadata": {
    "colab": {
      "name": "“demo-python-regex-extract-text.ipynb”的副本",
      "provenance": [],
      "collapsed_sections": [],
      "include_colab_link": true
    },
    "kernelspec": {
      "name": "python3",
      "display_name": "Python 3"
    }
  },
  "cells": [
    {
      "cell_type": "markdown",
      "metadata": {
        "id": "view-in-github",
        "colab_type": "text"
      },
      "source": [
        "<a href=\"https://colab.research.google.com/github/Cindy-Qing/CloneRapTest/blob/master/%E2%80%9Cdemo_python_regex_extract_text_ipynb%E2%80%9D%E7%9A%84%E5%89%AF%E6%9C%AC.ipynb\" target=\"_parent\"><img src=\"https://colab.research.google.com/assets/colab-badge.svg\" alt=\"Open In Colab\"/></a>"
      ]
    },
    {
      "cell_type": "code",
      "metadata": {
        "id": "jEZbvf913EPz",
        "colab_type": "code",
        "colab": {}
      },
      "source": [
        "import re"
      ],
      "execution_count": 0,
      "outputs": []
    },
    {
      "cell_type": "code",
      "metadata": {
        "id": "PY4T9E5J3JTo",
        "colab_type": "code",
        "colab": {}
      },
      "source": [
        "data = \"\"\"张华考上了北京大学\n",
        "李萍进了中等技术学校\n",
        "韩梅梅进了百货公司\n",
        "他们都有光明的前途\"\"\""
      ],
      "execution_count": 0,
      "outputs": []
    },
    {
      "cell_type": "code",
      "metadata": {
        "id": "fyYW18Cv3U6s",
        "colab_type": "code",
        "colab": {}
      },
      "source": [
        "regex = r\"(.*)[考|进].*了(.*)\""
      ],
      "execution_count": 0,
      "outputs": []
    },
    {
      "cell_type": "code",
      "metadata": {
        "id": "C_KTX2vG37AZ",
        "colab_type": "code",
        "colab": {}
      },
      "source": [
        "mylist = []"
      ],
      "execution_count": 0,
      "outputs": []
    },
    {
      "cell_type": "code",
      "metadata": {
        "id": "yvR4EkU-3Zrb",
        "colab_type": "code",
        "colab": {}
      },
      "source": [
        "for line in data.split('\\n'):\n",
        "  mysearch = re.search(regex, line)\n",
        "  if mysearch:\n",
        "    name = mysearch.group(1)\n",
        "    dest = mysearch.group(2)\n",
        "    mylist.append((name, dest))\n"
      ],
      "execution_count": 0,
      "outputs": []
    },
    {
      "cell_type": "code",
      "metadata": {
        "id": "83a2xdRg3_jt",
        "colab_type": "code",
        "colab": {
          "base_uri": "https://localhost:8080/",
          "height": 35
        },
        "outputId": "0348a5f7-6b92-43db-b1a3-be3a8cbcd402"
      },
      "source": [
        "mylist"
      ],
      "execution_count": 6,
      "outputs": [
        {
          "output_type": "execute_result",
          "data": {
            "text/plain": [
              "[('张华', '北京大学'), ('李萍', '中等技术学校'), ('韩梅梅', '百货公司')]"
            ]
          },
          "metadata": {
            "tags": []
          },
          "execution_count": 6
        }
      ]
    },
    {
      "cell_type": "code",
      "metadata": {
        "id": "7DnDzUTn4BDW",
        "colab_type": "code",
        "colab": {}
      },
      "source": [
        "import pandas as pd"
      ],
      "execution_count": 0,
      "outputs": []
    },
    {
      "cell_type": "code",
      "metadata": {
        "id": "gWfTZ2qp4CiP",
        "colab_type": "code",
        "colab": {}
      },
      "source": [
        "df = pd.DataFrame(mylist)\n",
        "df.columns = ['姓名', '去向']"
      ],
      "execution_count": 0,
      "outputs": []
    },
    {
      "cell_type": "code",
      "metadata": {
        "id": "e9ti6-8m4FG-",
        "colab_type": "code",
        "colab": {
          "base_uri": "https://localhost:8080/",
          "height": 142
        },
        "outputId": "f1d9f201-ef1f-4b5f-e1a8-20ff76d0660d"
      },
      "source": [
        "df"
      ],
      "execution_count": 9,
      "outputs": [
        {
          "output_type": "execute_result",
          "data": {
            "text/html": [
              "<div>\n",
              "<style scoped>\n",
              "    .dataframe tbody tr th:only-of-type {\n",
              "        vertical-align: middle;\n",
              "    }\n",
              "\n",
              "    .dataframe tbody tr th {\n",
              "        vertical-align: top;\n",
              "    }\n",
              "\n",
              "    .dataframe thead th {\n",
              "        text-align: right;\n",
              "    }\n",
              "</style>\n",
              "<table border=\"1\" class=\"dataframe\">\n",
              "  <thead>\n",
              "    <tr style=\"text-align: right;\">\n",
              "      <th></th>\n",
              "      <th>姓名</th>\n",
              "      <th>去向</th>\n",
              "    </tr>\n",
              "  </thead>\n",
              "  <tbody>\n",
              "    <tr>\n",
              "      <th>0</th>\n",
              "      <td>张华</td>\n",
              "      <td>北京大学</td>\n",
              "    </tr>\n",
              "    <tr>\n",
              "      <th>1</th>\n",
              "      <td>李萍</td>\n",
              "      <td>中等技术学校</td>\n",
              "    </tr>\n",
              "    <tr>\n",
              "      <th>2</th>\n",
              "      <td>韩梅梅</td>\n",
              "      <td>百货公司</td>\n",
              "    </tr>\n",
              "  </tbody>\n",
              "</table>\n",
              "</div>"
            ],
            "text/plain": [
              "    姓名      去向\n",
              "0   张华    北京大学\n",
              "1   李萍  中等技术学校\n",
              "2  韩梅梅    百货公司"
            ]
          },
          "metadata": {
            "tags": []
          },
          "execution_count": 9
        }
      ]
    },
    {
      "cell_type": "code",
      "metadata": {
        "id": "Ae9puoPW4ODV",
        "colab_type": "code",
        "colab": {}
      },
      "source": [
        "df.to_excel(\"dest.xlsx\", index=False)"
      ],
      "execution_count": 0,
      "outputs": []
    }
  ]
}